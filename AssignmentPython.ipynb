{
 "cells": [
  {
   "cell_type": "code",
   "execution_count": 2,
   "id": "a6e7625e-8858-4d49-acfa-8cc5028b27bf",
   "metadata": {},
   "outputs": [
    {
     "name": "stdout",
     "output_type": "stream",
     "text": [
      "Second largest number is: 37\n"
     ]
    }
   ],
   "source": [
    "#Q1\n",
    "numbers = [10, 20, 4, 45, 22, 37, 5]\n",
    "\n",
    "first = second = float('-inf')\n",
    "for n in numbers:\n",
    "    if n > first:\n",
    "        second = first\n",
    "        first = n\n",
    "    elif first > n > second:\n",
    "        second = n\n",
    "\n",
    "print(\"Second largest number is:\", second)"
   ]
  },
  {
   "cell_type": "code",
   "execution_count": 3,
   "id": "d9966c9f-ac70-41bf-be86-b1ffc9f6b570",
   "metadata": {},
   "outputs": [
    {
     "name": "stdout",
     "output_type": "stream",
     "text": [
      "[1, 2, 3, 4, 5]\n"
     ]
    }
   ],
   "source": [
    "#Q2\n",
    "numbers = [4, 2, 5, 2, 3, 4, 1, 5]\n",
    "unique = []\n",
    "for n in numbers:\n",
    "    if n not in unique:\n",
    "        unique.append(n)\n",
    "for i in range(len(unique)):\n",
    "    for j in range(i + 1, len(unique)):\n",
    "        if unique[i] > unique[j]:\n",
    "            unique[i], unique[j] = unique[j], unique[i]\n",
    "print(unique)\n"
   ]
  },
  {
   "cell_type": "code",
   "execution_count": 4,
   "id": "a6834378-ed98-441c-8f23-6d882931ad18",
   "metadata": {},
   "outputs": [
    {
     "name": "stdout",
     "output_type": "stream",
     "text": [
      "Sum: 150\n",
      "Average: 30.0\n"
     ]
    }
   ],
   "source": [
    "#Q3\n",
    "numbers = [10, 20, 30, 40, 50]\n",
    "total = 0\n",
    "for n in numbers:\n",
    "    total += n\n",
    "average = total / len(numbers)\n",
    "print(\"Sum:\", total)\n",
    "print(\"Average:\", average)\n"
   ]
  },
  {
   "cell_type": "code",
   "execution_count": 5,
   "id": "a8fc6762-4d09-43db-ac01-14f59bce6c91",
   "metadata": {},
   "outputs": [
    {
     "name": "stdout",
     "output_type": "stream",
     "text": [
      "Prime\n"
     ]
    }
   ],
   "source": [
    "#Q4\n",
    "num = 29\n",
    "is_prime = True\n",
    "if num < 2:\n",
    "    is_prime = False\n",
    "else:\n",
    "    for i in range(2, int(num ** 0.5) + 1):\n",
    "        if num % i == 0:\n",
    "            is_prime = False\n",
    "            break\n",
    "print(\"Prime\" if is_prime else \"Not Prime\")\n"
   ]
  },
  {
   "cell_type": "code",
   "execution_count": 6,
   "id": "05ea6e4d-a407-4283-870f-08898b7a44c5",
   "metadata": {},
   "outputs": [
    {
     "name": "stdout",
     "output_type": "stream",
     "text": [
      "Vowels: 3\n",
      "Consonants: 7\n",
      "Digits: 3\n",
      "Special characters: 1\n"
     ]
    }
   ],
   "source": [
    "#Q5\n",
    "text = \"Hello World! 123\"\n",
    "\n",
    "vowels = consonants = digits = special = 0\n",
    "for ch in text:\n",
    "    if ch.lower() in 'aeiou':\n",
    "        vowels += 1\n",
    "    elif ch.isalpha():\n",
    "        consonants += 1\n",
    "    elif ch.isdigit():\n",
    "        digits += 1\n",
    "    elif not ch.isspace():\n",
    "        special += 1\n",
    "\n",
    "print(\"Vowels:\", vowels)\n",
    "print(\"Consonants:\", consonants)\n",
    "print(\"Digits:\", digits)\n",
    "print(\"Special characters:\", special)\n"
   ]
  },
  {
   "cell_type": "code",
   "execution_count": 7,
   "id": "3485cd0d-0110-4c3d-894b-33817d8873e7",
   "metadata": {},
   "outputs": [
    {
     "name": "stdout",
     "output_type": "stream",
     "text": [
      "2\n",
      "4\n",
      "6\n",
      "8\n",
      "10\n",
      "12\n",
      "14\n",
      "16\n",
      "18\n",
      "20\n",
      "22\n",
      "24\n",
      "26\n",
      "28\n",
      "30\n",
      "32\n",
      "34\n",
      "36\n",
      "38\n",
      "40\n",
      "42\n",
      "44\n",
      "46\n",
      "48\n",
      "50\n",
      "52\n",
      "54\n",
      "56\n",
      "58\n",
      "60\n",
      "62\n",
      "64\n",
      "66\n",
      "68\n",
      "70\n",
      "72\n",
      "74\n",
      "76\n",
      "78\n",
      "80\n",
      "82\n",
      "84\n",
      "86\n",
      "88\n",
      "90\n",
      "92\n",
      "94\n",
      "96\n",
      "98\n",
      "100\n"
     ]
    }
   ],
   "source": [
    "#Q6\n",
    "for i in range(1, 101):\n",
    "    if i % 2 == 0:\n",
    "        print(i)\n"
   ]
  },
  {
   "cell_type": "code",
   "execution_count": 10,
   "id": "f424ffe9-5c53-44fc-a86e-7d809f824130",
   "metadata": {},
   "outputs": [
    {
     "name": "stdin",
     "output_type": "stream",
     "text": [
      "Enter a number:  4\n"
     ]
    },
    {
     "name": "stdout",
     "output_type": "stream",
     "text": [
      "4 x 1 = 4\n",
      "4 x 2 = 8\n",
      "4 x 3 = 12\n",
      "4 x 4 = 16\n",
      "4 x 5 = 20\n",
      "4 x 6 = 24\n",
      "4 x 7 = 28\n",
      "4 x 8 = 32\n",
      "4 x 9 = 36\n",
      "4 x 10 = 40\n"
     ]
    }
   ],
   "source": [
    "#Q7\n",
    "num = int(input(\"Enter a number: \"))\n",
    "for i in range(1, 11):\n",
    "    print(num, \"x\", i, \"=\", num * i)"
   ]
  },
  {
   "cell_type": "code",
   "execution_count": 12,
   "id": "dfd047b6-fb65-4e3b-b2c6-845fce5b2738",
   "metadata": {},
   "outputs": [
    {
     "name": "stdout",
     "output_type": "stream",
     "text": [
      "[15, 30, 45, 60, 75, 90]\n"
     ]
    }
   ],
   "source": [
    "#Q8\n",
    "numbers = []\n",
    "for i in range(1, 101):\n",
    "    if i % 3 == 0 and i % 5 == 0:\n",
    "        numbers.append(i)\n",
    "print(numbers)"
   ]
  },
  {
   "cell_type": "code",
   "execution_count": 17,
   "id": "573a6921-9da6-4d43-b2ff-26f263c99aea",
   "metadata": {},
   "outputs": [
    {
     "name": "stdin",
     "output_type": "stream",
     "text": [
      "Enter a number:  63\n"
     ]
    },
    {
     "name": "stdout",
     "output_type": "stream",
     "text": [
      "Reversed: 36\n"
     ]
    }
   ],
   "source": [
    "#Q9\n",
    "num = input(\"Enter a number: \")\n",
    "print(\"Reversed:\", num[::-1])"
   ]
  },
  {
   "cell_type": "code",
   "execution_count": 20,
   "id": "afd09108-460d-47df-9d67-115ca1d347b5",
   "metadata": {},
   "outputs": [
    {
     "name": "stdout",
     "output_type": "stream",
     "text": [
      "{'h': 1, 'e': 1, 'l': 3, 'o': 2, ' ': 1, 'w': 1, 'r': 1, 'd': 1}\n"
     ]
    }
   ],
   "source": [
    "#10\n",
    "text = \"hello world\"\n",
    "freq = {}\n",
    "for ch in text:\n",
    "    if ch in freq:\n",
    "        freq[ch] += 1\n",
    "    else:\n",
    "        freq[ch] = 1\n",
    "print(freq)"
   ]
  },
  {
   "cell_type": "code",
   "execution_count": 21,
   "id": "e56d2b6d-c305-43d9-8adb-5653938eba39",
   "metadata": {},
   "outputs": [
    {
     "name": "stdout",
     "output_type": "stream",
     "text": [
      "[2, 3, 5, 7, 11, 13, 17, 19, 23, 29]\n"
     ]
    }
   ],
   "source": [
    "#11\n",
    "n = 10\n",
    "primes = []\n",
    "num = 2\n",
    "while len(primes) < n:\n",
    "    for i in range(2, int(num**0.5) + 1):\n",
    "        if num % i == 0:\n",
    "            break\n",
    "    else:\n",
    "        primes.append(num)\n",
    "    num += 1\n",
    "print(primes)"
   ]
  },
  {
   "cell_type": "code",
   "execution_count": 25,
   "id": "a15ed055-f3c6-4aa8-8360-84dba71ace04",
   "metadata": {},
   "outputs": [
    {
     "name": "stdin",
     "output_type": "stream",
     "text": [
      "Enter a number:  121\n"
     ]
    },
    {
     "name": "stdout",
     "output_type": "stream",
     "text": [
      "Palindrome\n"
     ]
    }
   ],
   "source": [
    "#12\n",
    "num = input(\"Enter a number: \")\n",
    "print(\"Palindrome\" if num == num[::-1] else \"Not Palindrome\")"
   ]
  },
  {
   "cell_type": "code",
   "execution_count": 28,
   "id": "3692fa5c-1fc3-46a6-af43-28fcdf6c1819",
   "metadata": {},
   "outputs": [
    {
     "name": "stdout",
     "output_type": "stream",
     "text": [
      "Count: 3\n"
     ]
    }
   ],
   "source": [
    "#13\n",
    "lst = [1, 2, 3, 2, 4, 2, 5]\n",
    "element = 2\n",
    "count = 0\n",
    "for i in lst:\n",
    "    if i == element:\n",
    "        count += 1\n",
    "print(\"Count:\", count)\n"
   ]
  },
  {
   "cell_type": "code",
   "execution_count": 30,
   "id": "e80e8c2c-7aae-472a-ae5a-3ffe904b71ac",
   "metadata": {},
   "outputs": [
    {
     "name": "stdout",
     "output_type": "stream",
     "text": [
      "[4, 16, 36, 64, 100, 144, 196, 256, 324, 400, 484, 576, 676, 784, 900, 1024, 1156, 1296, 1444, 1600, 1764, 1936, 2116, 2304, 2500]\n"
     ]
    }
   ],
   "source": [
    "#14\n",
    "squares = []\n",
    "for i in range(1, 51):\n",
    "    if i % 2 == 0:\n",
    "        squares.append(i * i)\n",
    "print(squares)"
   ]
  },
  {
   "cell_type": "code",
   "execution_count": 32,
   "id": "2d92c2b8-ec21-4792-91cf-469dee4d8afd",
   "metadata": {},
   "outputs": [
    {
     "name": "stdout",
     "output_type": "stream",
     "text": [
      "[1, 2, 3, 4, 5]\n"
     ]
    }
   ],
   "source": [
    "#15\n",
    "lst = [1, 2, 2, 3, 1, 4, 5, 4]\n",
    "unique = []\n",
    "for i in lst:\n",
    "    if i not in unique:\n",
    "        unique.append(i)\n",
    "print(unique)"
   ]
  },
  {
   "cell_type": "code",
   "execution_count": 33,
   "id": "e0eb773c-d384-4be5-9dac-442f7500ffdd",
   "metadata": {},
   "outputs": [
    {
     "name": "stdout",
     "output_type": "stream",
     "text": [
      "Odd\n"
     ]
    }
   ],
   "source": [
    "#16\n",
    "def even_or_odd(n):\n",
    "    return \"Even\" if n % 2 == 0 else \"Odd\"\n",
    "print(even_or_odd(5))"
   ]
  },
  {
   "cell_type": "code",
   "execution_count": 34,
   "id": "b0b2b4c9-5f22-400e-8245-049b339eef53",
   "metadata": {},
   "outputs": [
    {
     "name": "stdout",
     "output_type": "stream",
     "text": [
      "[1, 3, 6, 10]\n"
     ]
    }
   ],
   "source": [
    "#17\n",
    "def cumulative_sum(lst):\n",
    "    total = 0\n",
    "    result = []\n",
    "    for n in lst:\n",
    "        total += n\n",
    "        result.append(total)\n",
    "    return result\n",
    "print(cumulative_sum([1, 2, 3, 4]))"
   ]
  },
  {
   "cell_type": "code",
   "execution_count": 35,
   "id": "a4610839-19aa-46b4-8285-ace18daa2aed",
   "metadata": {},
   "outputs": [
    {
     "name": "stdout",
     "output_type": "stream",
     "text": [
      "120\n"
     ]
    }
   ],
   "source": [
    "#18\n",
    "def factorial(n):\n",
    "    if n == 0:\n",
    "        return 1\n",
    "    return n * factorial(n-1)\n",
    "print(factorial(5))"
   ]
  },
  {
   "cell_type": "code",
   "execution_count": 36,
   "id": "886c9bc4-dbef-4cc8-b3c2-27623b9ab1a4",
   "metadata": {},
   "outputs": [
    {
     "name": "stdout",
     "output_type": "stream",
     "text": [
      "0 1 1 2 3 5 8 13 21 34 "
     ]
    }
   ],
   "source": [
    "#19\n",
    "def fibonacci(n):\n",
    "    a, b = 0, 1\n",
    "    for _ in range(n):\n",
    "        print(a, end=\" \")\n",
    "        a, b = b, a + b\n",
    "fibonacci(10)"
   ]
  },
  {
   "cell_type": "code",
   "execution_count": 37,
   "id": "2f4fd7d0-433e-4b0c-b0d5-0f891a42ecce",
   "metadata": {},
   "outputs": [
    {
     "name": "stdout",
     "output_type": "stream",
     "text": [
      "True\n"
     ]
    }
   ],
   "source": [
    "#20\n",
    "def is_palindrome(s):\n",
    "    return s == s[::-1]\n",
    "print(is_palindrome(\"madam\"))"
   ]
  },
  {
   "cell_type": "code",
   "execution_count": 38,
   "id": "4dd4227f-a775-45bb-b326-54b17154e596",
   "metadata": {},
   "outputs": [
    {
     "name": "stdout",
     "output_type": "stream",
     "text": [
      "(9, 1)\n"
     ]
    }
   ],
   "source": [
    "#21\n",
    "def max_min(lst):\n",
    "    return max(lst), min(lst)\n",
    "print(max_min([2, 5, 1, 9]))"
   ]
  },
  {
   "cell_type": "code",
   "execution_count": 39,
   "id": "4ff2900a-612b-40a1-86e2-b49415b9177e",
   "metadata": {},
   "outputs": [
    {
     "name": "stdout",
     "output_type": "stream",
     "text": [
      "True\n"
     ]
    }
   ],
   "source": [
    "#22\n",
    "def is_pangram(s):\n",
    "    return all(chr(i) in s.lower() for i in range(97, 123))\n",
    "print(is_pangram(\"The quick brown fox jumps over the lazy dog\"))"
   ]
  },
  {
   "cell_type": "code",
   "execution_count": 40,
   "id": "bcd80c61-3b00-4dce-8031-f68f49354027",
   "metadata": {},
   "outputs": [
    {
     "name": "stdout",
     "output_type": "stream",
     "text": [
      "[11, 13, 17, 19, 23, 29, 31, 37, 41, 43, 47]\n"
     ]
    }
   ],
   "source": [
    "#23\n",
    "def primes_in_range(start, end):\n",
    "    primes = []\n",
    "    for num in range(start, end+1):\n",
    "        if num > 1:\n",
    "            for i in range(2, int(num**0.5)+1):\n",
    "                if num % i == 0:\n",
    "                    break\n",
    "            else:\n",
    "                primes.append(num)\n",
    "    return primes\n",
    "print(primes_in_range(10, 50))"
   ]
  },
  {
   "cell_type": "code",
   "execution_count": 41,
   "id": "ba6b92e9-7b3f-4910-b7a4-ca284b2dae05",
   "metadata": {},
   "outputs": [
    {
     "name": "stdout",
     "output_type": "stream",
     "text": [
      "(2, 8)\n"
     ]
    }
   ],
   "source": [
    "#24\n",
    "def count_case(s):\n",
    "    upper = lower = 0\n",
    "    for ch in s:\n",
    "        if ch.isupper():\n",
    "            upper += 1\n",
    "        elif ch.islower():\n",
    "            lower += 1\n",
    "    return upper, lower\n",
    "print(count_case(\"Hello World\"))"
   ]
  },
  {
   "cell_type": "code",
   "execution_count": 42,
   "id": "24925008-7014-4d22-9e9e-a7df74f8afb5",
   "metadata": {},
   "outputs": [
    {
     "name": "stdout",
     "output_type": "stream",
     "text": [
      "10\n"
     ]
    }
   ],
   "source": [
    "#25\n",
    "def sum_of_digits(n):\n",
    "    return sum(int(d) for d in str(n))\n",
    "print(sum_of_digits(1234))"
   ]
  },
  {
   "cell_type": "code",
   "execution_count": 43,
   "id": "fc912d21-c1d2-4798-8312-3f7ca1ca341b",
   "metadata": {},
   "outputs": [
    {
     "name": "stdout",
     "output_type": "stream",
     "text": [
      "5\n"
     ]
    }
   ],
   "source": [
    "#26\n",
    "def count_words(s):\n",
    "    return len(s.split())\n",
    "print(count_words(\"Hello world this is Python\"))"
   ]
  },
  {
   "cell_type": "code",
   "execution_count": 44,
   "id": "e6634bc7-a650-42ce-853b-da4fa19a363f",
   "metadata": {},
   "outputs": [
    {
     "name": "stdout",
     "output_type": "stream",
     "text": [
      "Hello world Its Python\n"
     ]
    }
   ],
   "source": [
    "#27\n",
    "def remove_punctuation(s):\n",
    "    return ''.join(ch for ch in s if ch.isalnum() or ch.isspace())\n",
    "print(remove_punctuation(\"Hello, world! It's Python.\"))"
   ]
  },
  {
   "cell_type": "code",
   "execution_count": 45,
   "id": "3e940956-5111-4cc0-85d1-e6e65c318d8d",
   "metadata": {},
   "outputs": [
    {
     "name": "stdout",
     "output_type": "stream",
     "text": [
      "6\n"
     ]
    }
   ],
   "source": [
    "#28\n",
    "def gcd(a, b):\n",
    "    while b:\n",
    "        a, b = b, a % b\n",
    "    return a\n",
    "print(gcd(48, 18))"
   ]
  },
  {
   "cell_type": "code",
   "execution_count": 46,
   "id": "707d1ffa-c131-43f8-a96b-d885e5f4e87a",
   "metadata": {},
   "outputs": [
    {
     "name": "stdout",
     "output_type": "stream",
     "text": [
      "[2, 4]\n"
     ]
    }
   ],
   "source": [
    "#29\n",
    "def duplicates(lst):\n",
    "    return [x for x in set(lst) if lst.count(x) > 1]\n",
    "print(duplicates([1, 2, 2, 3, 4, 4, 5]))"
   ]
  },
  {
   "cell_type": "code",
   "execution_count": 47,
   "id": "90fc78bb-d9ed-4e59-93be-7e7bf1689a75",
   "metadata": {},
   "outputs": [
    {
     "name": "stdout",
     "output_type": "stream",
     "text": [
      "20\n"
     ]
    }
   ],
   "source": [
    "#30\n",
    "def largest(a, b, c):\n",
    "    return max(a, b, c)\n",
    "print(largest(10, 20, 15))"
   ]
  },
  {
   "cell_type": "code",
   "execution_count": 48,
   "id": "806ecd9a-5984-40a8-8d28-de316a4bdd1d",
   "metadata": {},
   "outputs": [
    {
     "name": "stdout",
     "output_type": "stream",
     "text": [
      "a great is language python\n"
     ]
    }
   ],
   "source": [
    "#31\n",
    "sentence = \"python is a great language\"\n",
    "words = sentence.split()\n",
    "words.sort()\n",
    "print(\" \".join(words))"
   ]
  },
  {
   "cell_type": "code",
   "execution_count": 49,
   "id": "0ed72f42-1bed-4f2e-b6af-de68320f3521",
   "metadata": {},
   "outputs": [
    {
     "name": "stdout",
     "output_type": "stream",
     "text": [
      "{'a': 1, 'b': 2, 'c': 3, 'd': 4}\n"
     ]
    }
   ],
   "source": [
    "#32\n",
    "d1 = {'a': 1, 'b': 2}\n",
    "d2 = {'c': 3, 'd': 4}\n",
    "d1.update(d2)\n",
    "print(d1)"
   ]
  },
  {
   "cell_type": "code",
   "execution_count": 50,
   "id": "f3041379-3173-4ab4-9ed5-0c8d47657d34",
   "metadata": {},
   "outputs": [
    {
     "name": "stdout",
     "output_type": "stream",
     "text": [
      "This -> 1\n",
      "is -> 1\n",
      "a -> 1\n",
      "test -> 1\n"
     ]
    }
   ],
   "source": [
    "#33\n",
    "sentence = \"This is a test\"\n",
    "for word in sentence.split():\n",
    "    count = sum(1 for ch in word if ch.lower() in 'aeiou')\n",
    "    print(word, \"->\", count)"
   ]
  },
  {
   "cell_type": "code",
   "execution_count": 51,
   "id": "b9f25438-0171-401d-a0de-848d63bbc74a",
   "metadata": {},
   "outputs": [
    {
     "name": "stdout",
     "output_type": "stream",
     "text": [
      "[1, 2, 3]\n"
     ]
    }
   ],
   "source": [
    "#34\n",
    "t = (1, 2, 3)\n",
    "lst = list(t)\n",
    "print(lst)"
   ]
  },
  {
   "cell_type": "code",
   "execution_count": 52,
   "id": "90f48474-423b-4fdc-9802-d3e0e155e96f",
   "metadata": {},
   "outputs": [
    {
     "name": "stdout",
     "output_type": "stream",
     "text": [
      "Pythonisfun\n"
     ]
    }
   ],
   "source": [
    "#35\n",
    "def remove_whitespace(s):\n",
    "    return s.replace(\" \", \"\")\n",
    "print(remove_whitespace(\"Python is fun\"))"
   ]
  },
  {
   "cell_type": "code",
   "execution_count": 53,
   "id": "258b482d-469e-4261-b131-1378440d0b09",
   "metadata": {},
   "outputs": [
    {
     "name": "stdout",
     "output_type": "stream",
     "text": [
      "{'a': 1, 'b': 2, 'c': 3}\n"
     ]
    }
   ],
   "source": [
    "#36\n",
    "keys = ['a', 'b', 'c']\n",
    "values = [1, 2, 3]\n",
    "d = dict(zip(keys, values))\n",
    "print(d)"
   ]
  },
  {
   "cell_type": "code",
   "execution_count": 54,
   "id": "04bc29ab-4fe4-474f-94c8-704a35d57da7",
   "metadata": {},
   "outputs": [
    {
     "name": "stdout",
     "output_type": "stream",
     "text": [
      "b\n"
     ]
    }
   ],
   "source": [
    "#37\n",
    "d = {'a': 10, 'b': 25, 'c': 7}\n",
    "max_key = max(d, key=d.get)\n",
    "print(max_key)"
   ]
  },
  {
   "cell_type": "code",
   "execution_count": 55,
   "id": "42bb38e3-2522-496e-91c3-bd18bcb36387",
   "metadata": {},
   "outputs": [
    {
     "name": "stdout",
     "output_type": "stream",
     "text": [
      "{'this': 2, 'is': 2, 'a': 2, 'test': 2, 'only': 1}\n"
     ]
    }
   ],
   "source": [
    "#38\n",
    "s = \"this is a test this is only a test\"\n",
    "freq = {}\n",
    "for word in s.split():\n",
    "    freq[word] = freq.get(word, 0) + 1\n",
    "print(freq)"
   ]
  },
  {
   "cell_type": "code",
   "execution_count": 56,
   "id": "04c5dce0-595e-4d3a-aa29-6e5567d9211f",
   "metadata": {},
   "outputs": [
    {
     "name": "stdout",
     "output_type": "stream",
     "text": [
      "True\n"
     ]
    }
   ],
   "source": [
    "#39\n",
    "d = {'x': 1, 'y': 2}\n",
    "print('x' in d)"
   ]
  },
  {
   "cell_type": "code",
   "execution_count": 57,
   "id": "dfa7fc70-d8f8-4d5b-b4f8-471c40aa3a32",
   "metadata": {},
   "outputs": [
    {
     "name": "stdout",
     "output_type": "stream",
     "text": [
      "H*ll* W*rld\n"
     ]
    }
   ],
   "source": [
    "#40\n",
    "s = \"Hello World\"\n",
    "for ch in \"aeiouAEIOU\":\n",
    "    s = s.replace(ch, '*')\n",
    "print(s)"
   ]
  },
  {
   "cell_type": "code",
   "execution_count": null,
   "id": "d560b8a6-1e2d-464c-8fd8-863bfc5b9f41",
   "metadata": {},
   "outputs": [],
   "source": [
    "#41\n",
    "with open(\"sample.txt\", \"r\") as f:\n",
    "    print(f.read())"
   ]
  },
  {
   "cell_type": "code",
   "execution_count": null,
   "id": "6d94c8c5-e6b3-4af6-972e-923d7d6281d5",
   "metadata": {},
   "outputs": [],
   "source": [
    "#42\n",
    "with open(\"sample.txt\", \"r\") as f:\n",
    "    print(len(f.read().split()))"
   ]
  },
  {
   "cell_type": "code",
   "execution_count": null,
   "id": "ae9a716d-fc21-400d-96ce-b236f4f8dd72",
   "metadata": {},
   "outputs": [],
   "source": [
    "#43\n",
    "with open(\"sample.txt\", \"r\") as src, open(\"copy.txt\", \"w\") as dst:\n",
    "    dst.write(src.read())"
   ]
  },
  {
   "cell_type": "code",
   "execution_count": null,
   "id": "8b644104-2be8-41a0-80ef-9dc9b5f294aa",
   "metadata": {},
   "outputs": [],
   "source": [
    "#44\n",
    "with open(\"sample.txt\", \"r\") as f:\n",
    "    for line in f:\n",
    "        if len(line) > 50:\n",
    "            print(line.strip())"
   ]
  },
  {
   "cell_type": "code",
   "execution_count": null,
   "id": "a0069332-5957-4abe-a79a-54412c42d403",
   "metadata": {},
   "outputs": [],
   "source": [
    "#45\n",
    "lines = [\"Hello\", \"World\", \"Python\"]\n",
    "with open(\"output.txt\", \"w\") as f:\n",
    "    for line in lines:\n",
    "        f.write(line + \"\\n\")"
   ]
  },
  {
   "cell_type": "code",
   "execution_count": 62,
   "id": "4c8bf592-3fc2-4d26-b793-f04fd9488ae9",
   "metadata": {},
   "outputs": [
    {
     "name": "stdin",
     "output_type": "stream",
     "text": [
      "Enter a:  4\n",
      "Enter b:  6\n"
     ]
    },
    {
     "name": "stdout",
     "output_type": "stream",
     "text": [
      "0.6666666666666666\n"
     ]
    }
   ],
   "source": [
    "#46\n",
    "try:\n",
    "    a = int(input(\"Enter a: \"))\n",
    "    b = int(input(\"Enter b: \"))\n",
    "    print(a / b)\n",
    "except ZeroDivisionError:\n",
    "    print(\"Cannot divide by zero\")"
   ]
  },
  {
   "cell_type": "code",
   "execution_count": 63,
   "id": "4c170568-53d0-49c0-863f-b378ce5cd15a",
   "metadata": {},
   "outputs": [
    {
     "name": "stdin",
     "output_type": "stream",
     "text": [
      "Enter a number:  6\n"
     ]
    },
    {
     "name": "stdout",
     "output_type": "stream",
     "text": [
      "Number is 6\n"
     ]
    }
   ],
   "source": [
    "#47\n",
    "try:\n",
    "    num = int(input(\"Enter a number: \"))\n",
    "    print(\"Number is\", num)\n",
    "except ValueError:\n",
    "    print(\"Invalid input\")"
   ]
  },
  {
   "cell_type": "code",
   "execution_count": 64,
   "id": "45a6366e-331b-44e7-a33d-c0df7b993a4e",
   "metadata": {},
   "outputs": [
    {
     "name": "stdout",
     "output_type": "stream",
     "text": [
      "File not found\n"
     ]
    }
   ],
   "source": [
    "#48\n",
    "try:\n",
    "    with open(\"nofile.txt\", \"r\") as f:\n",
    "        print(f.read())\n",
    "except FileNotFoundError:\n",
    "    print(\"File not found\")"
   ]
  },
  {
   "cell_type": "code",
   "execution_count": 65,
   "id": "134a93d5-e25b-4920-a77e-9f8877ebef8f",
   "metadata": {},
   "outputs": [
    {
     "name": "stdout",
     "output_type": "stream",
     "text": [
      "Invalid index\n"
     ]
    }
   ],
   "source": [
    "#49\n",
    "lst = [1, 2, 3]\n",
    "try:\n",
    "    print(lst[5])\n",
    "except IndexError:\n",
    "    print(\"Invalid index\")"
   ]
  },
  {
   "cell_type": "code",
   "execution_count": 66,
   "id": "9e0fdabb-b22f-4ade-9cbc-751b92df748b",
   "metadata": {},
   "outputs": [
    {
     "name": "stdout",
     "output_type": "stream",
     "text": [
      "Division error\n",
      "This always runs\n"
     ]
    }
   ],
   "source": [
    "#50\n",
    "try:\n",
    "    print(10 / 0)\n",
    "except ZeroDivisionError:\n",
    "    print(\"Division error\")\n",
    "finally:\n",
    "    print(\"This always runs\")"
   ]
  }
 ],
 "metadata": {
  "kernelspec": {
   "display_name": "Python 3 (ipykernel)",
   "language": "python",
   "name": "python3"
  },
  "language_info": {
   "codemirror_mode": {
    "name": "ipython",
    "version": 3
   },
   "file_extension": ".py",
   "mimetype": "text/x-python",
   "name": "python",
   "nbconvert_exporter": "python",
   "pygments_lexer": "ipython3",
   "version": "3.12.1"
  }
 },
 "nbformat": 4,
 "nbformat_minor": 5
}
